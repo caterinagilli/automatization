{
 "cells": [
  {
   "cell_type": "code",
   "execution_count": 4,
   "metadata": {},
   "outputs": [],
   "source": [
    "import os\n",
    "import re\n",
    "import pandas as pd"
   ]
  },
  {
   "cell_type": "code",
   "execution_count": 5,
   "metadata": {},
   "outputs": [],
   "source": [
    "# EDIT THIS CHUNK\n",
    "root_folder = r\"C:\\Users\\caterina.gilli\\Desktop\\ongoing\\prova\"\n"
   ]
  },
  {
   "cell_type": "code",
   "execution_count": 6,
   "metadata": {},
   "outputs": [],
   "source": [
    "def name_table(string):\n",
    "    return string.upper().replace(' ',  '_')"
   ]
  },
  {
   "cell_type": "code",
   "execution_count": 7,
   "metadata": {},
   "outputs": [],
   "source": [
    "def get_file_list(path):\n",
    "    \"\"\"Get a list of the csv files inside the folder\"\"\"\n",
    "    File_list = [] #f for f in os.listdir(path) if os.isfile(mypath,f)\n",
    "    for file in os.listdir(path):\n",
    "        if file.endswith(\".csv\"):\n",
    "            if file not in File_list:\n",
    "                #File_list.append(os.path.join(path,file))\n",
    "                File_list.append(file)\n",
    "        else:\n",
    "            pass\n",
    "    return File_list"
   ]
  },
  {
   "cell_type": "code",
   "execution_count": 8,
   "metadata": {},
   "outputs": [],
   "source": [
    "def column_length_finder(df):\n",
    "    \"\"\"\n",
    "    Find the maximum string length for each column in the DataFrame.\n",
    "    \"\"\"\n",
    "    return [(df[col].astype(str).map(len).max()+2) for col in df.columns]"
   ]
  },
  {
   "cell_type": "code",
   "execution_count": 9,
   "metadata": {},
   "outputs": [],
   "source": [
    "def containing_number(element):\n",
    "    \"\"\"\n",
    "    Check if there are numbers in a specific element. \n",
    "    This is done to decide on the allignment (if with numbers central).\n",
    "    \"\"\"\n",
    "    return bool(re.search(r'\\d', str(element)))"
   ]
  },
  {
   "cell_type": "code",
   "execution_count": 37,
   "metadata": {},
   "outputs": [],
   "source": [
    "def write_lu_table_from_csv(file_path, table_name, output_file):\n",
    "    \"\"\"\n",
    "    Write a lookup table from a CSV file into a plain text file (.txt) with the same name.\n",
    "    Each column is of the width of its largest item + 2 blank spaces for readability.\n",
    "    \"\"\"\n",
    "    # Read the CSV file into a DataFrame\n",
    "    df = pd.read_csv(file_path, header=None)\n",
    "    \n",
    "    # Calculate the maximum length of each column\n",
    "    col_max_lengths = column_length_finder(df)\n",
    "    \n",
    "    # Adjust lengths by adding 2 spaces (one before and one after)\n",
    "    col_widths = [length + 2 for length in col_max_lengths]\n",
    "\n",
    "    # Length of the whole table\n",
    "    table_width = sum(col_widths) + len(df.columns) - 1\n",
    "\n",
    "    # Open the output file\n",
    "    with open(output_file, 'w') as lookup_table_file:\n",
    "        lookup_table_file.write('define ' + table_name + ' as {{\\n')\n",
    "        # Iterate over each row\n",
    "        for index_r, row in df.iterrows():\n",
    "            row_str = ''\n",
    "            for index_c, col in enumerate(df.columns):\n",
    "                # Check if the cell contains any numeric characters\n",
    "                if containing_number(row[col]):\n",
    "                    # Center the content for cells containing numbers\n",
    "                    cell = f\" {str(row[col]).center(col_widths[index_c] - 1)}\"\n",
    "                else:\n",
    "                    # Left-align the content for cells without numbers\n",
    "                    cell = f\" {str(row[col]).ljust(col_widths[index_c] - 1)}\"\n",
    "                \n",
    "                # Add the cell to the row string with the appropriate separator\n",
    "                if index_c < len(df.columns) - 1:\n",
    "                    row_str += cell + \"|\"\n",
    "                else:\n",
    "                    if (index_r < len(df.index) - 1) & (index_r > 0):\n",
    "                        row_str += cell + \",\"     \n",
    "                    else:\n",
    "                        row_str += cell       \n",
    "            # Write the formatted row to the file\n",
    "            lookup_table_file.write(row_str + '\\n')\n",
    "\n",
    "            # Dashes after the header\n",
    "            if index_r == 0:\n",
    "                lookup_table_file.write('-' * table_width + '\\n')\n",
    "        lookup_table_file.write('}};')"
   ]
  },
  {
   "cell_type": "code",
   "execution_count": 38,
   "metadata": {},
   "outputs": [],
   "source": [
    "lookuptables_folder = os.path.join(root_folder, 'lookup_tables')\n",
    "# Create the new folder\n",
    "os.makedirs(lookuptables_folder, exist_ok=True)\n",
    "file_list = get_file_list(root_folder)\n",
    "\n",
    "# Process each CSV file and save the resulting .txt file in the lookup_tables folder\n",
    "for csv_file in file_list:\n",
    "    csv_file_path = os.path.join(root_folder, csv_file)\n",
    "\n",
    "    txt_file_name = os.path.splitext(csv_file)[0] + '.txt'\n",
    "    txt_file_path = os.path.join(lookuptables_folder, txt_file_name)\n",
    "    \n",
    "    lu_table_name = name_table(os.path.splitext(csv_file)[0])\n",
    "\n",
    "    # Convert the CSV file to a formatted table and save it as a .txt file\n",
    "    write_lu_table_from_csv(csv_file_path, lu_table_name, txt_file_path)\n",
    "\n",
    "\n",
    "# check\n",
    "for txt_file in get_file_list(lookuptables_folder):\n",
    "    print (txt_file)"
   ]
  },
  {
   "cell_type": "code",
   "execution_count": 38,
   "metadata": {},
   "outputs": [
    {
     "name": "stdout",
     "output_type": "stream",
     "text": [
      "({'urn': 'local:rubencc:im.nca.data:im-nca-data.iucn_tf1_7_boreal_temperate_fens', 'version': '0.0.1', 'adapterType': 'wcs', 'localPath': 'im.nca.data/resources/im-nca-data.iucn_tf1_7_boreal_temperate_fens', 'geometry': 'τ1{tend=1609459200000,tstart=1577836800000,ttype=logical}S2(43199,21599){bbox=[-180.0 180.0 -90.0 90.0],proj=EPSG:4326}', 'projectName': 'im.nca.data', 'localName': 'im-nca-data.iucn_tf1_7_boreal_temperate_fens', 'type': 'NUMBER', 'resourceTimestamp': 1715263748302, 'metadata': {'im:keywords': 'Ecosystem, Typology', 'dc:comment': 'FALTA. This layer corresponds to one of the Ecosystem Functional Groups of the Global Ecosystem Typology (GET), developped by the IUCN Commission on Ecosystem Management. Specifically, \\nFens occur extensively in boreal-subarctic and cool temperate regions. Like peat bogs, with which they may form mosaics, they have waterlogged organic soils, but they are rich in mineral nutrients and typically neutral or alkaline in pH. The vegetation comprises a low diversity of small plants, fungi and brown mosses, but woody plants are generally absent. They support insects, specialised frogs and some birds. Shallow standing water or permafrost may be present.\\nMore information on this specific Ecosystem Funcitonal Group can be found following the url: https://global-ecosystems.org/explore/groups/TF1.7\\nFens occur extensively in boreal-subarctic and cool temperate regions. Like peat bogs, with which they may form mosaics, they have waterlogged organic soils, but they are rich in mineral nutrients and typically neutral or alkaline in pH. The vegetation comprises a low diversity of small plants, fungi and brown mosses, but woody plants are generally absent. They support insects, specialised frogs and some birds. Shallow standing water or permafrost may be present.\\nMore information on this specific Ecosystem Funcitonal Group can be found following the url: https://global-ecosystems.org/explore/groups/TF1.7', 'im:notes': '', 'dc:title': 'TF1.7 Boreal and temperate fens', 'dc:url': 'https://doi.org/10.1038/s41586-022-05318-4', 'dc:creator': 'FALTA', 'im:thematic-area': 'FALTA', 'dc:originator': 'The International Union for Conservation of Nature (IUCN)', 'im:geographic-area': 'Global', 'dc:source': 'Keith, D. A., J. R. Ferrer-Paris, E. Nicholson, M. Bishop, B. A, Polidoro, E. Ramirez-Llodra, M. G. Tozer, J. L. Nel, R. Mac Nally, E. J. Gregr, K. E. Watermeyer, F. Essl, D. Faber-Langendoen, J. Franklin, C. E. R. Lehmann, A. Etter, D. J. Roux, J. S. Stark, J. A. Rowland, N. A. Brummitt, U. C. Fernandez-Arcaya, I. M. Suthers, S. K. Wiser, I. Donohue, L. J. Jackson, R. T. Pennington, N. Pettorelli, A. Andrade, A. Lindgaard, T. Tahvanainen, A. Terauds, M. A. Chadwick, N. J. Murray, J. Moat, P. Pliscoff, I. Zager, and R. T. Kingsford (2022) A function-based typology for Earth’s ecosystems Nature 610, 513–518. DOI:10.1038/s41586-022-05318-4.'}, 'parameters': {'wcsIdentifier': 'im-nca-data__iucn_tf1_7_boreal_temperate_fens', 'transform': '', 'serviceUrl': 'https://integratedmodelling.org/aux-geoserver/ows', 'nodata': '0.0', 'wcsVersion': '2.0.1'}, 'localPaths': [], 'history': [], 'notifications': [], 'attributes': [], 'spatialExtent': {'east': 180.0, 'west': -180.0, 'north': 90.0, 'south': -90.0, 'gridResolution': None, 'gridUnit': None}, 'dependencies': None, 'outputs': None, 'categorizables': [], 'codelists': [], 'availability': None, 'exportFormats': {}}, None)\n"
     ]
    }
   ],
   "source": [
    "print(data_1)\n",
    "print(table_)"
   ]
  },
  {
   "cell_type": "code",
   "execution_count": null,
   "metadata": {},
   "outputs": [],
   "source": []
  }
 ],
 "metadata": {
  "kernelspec": {
   "display_name": "Python 3 (ipykernel)",
   "language": "python",
   "name": "python3"
  },
  "language_info": {
   "codemirror_mode": {
    "name": "ipython",
    "version": 3
   },
   "file_extension": ".py",
   "mimetype": "text/x-python",
   "name": "python",
   "nbconvert_exporter": "python",
   "pygments_lexer": "ipython3",
   "version": "3.11.8"
  }
 },
 "nbformat": 4,
 "nbformat_minor": 4
}
